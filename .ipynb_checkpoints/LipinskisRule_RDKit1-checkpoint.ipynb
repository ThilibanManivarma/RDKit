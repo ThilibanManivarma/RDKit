{
 "cells": [
  {
   "cell_type": "code",
   "execution_count": 39,
   "id": "c6bd83fe",
   "metadata": {},
   "outputs": [],
   "source": [
    "from rdkit import Chem\n",
    "from rdkit.Chem import Draw\n",
    "from rdkit.Chem import Descriptors"
   ]
  },
  {
   "cell_type": "code",
   "execution_count": 40,
   "id": "c8368450",
   "metadata": {},
   "outputs": [],
   "source": [
    "import pandas as pd"
   ]
  },
  {
   "cell_type": "code",
   "execution_count": 4,
   "id": "f3a3fe97",
   "metadata": {},
   "outputs": [],
   "source": [
    "#Read the SMILES ID\n",
    "objj = Chem.MolFromSmiles('CCO')"
   ]
  },
  {
   "cell_type": "code",
   "execution_count": 5,
   "id": "a451eb30",
   "metadata": {},
   "outputs": [
    {
     "data": {
      "text/plain": [
       "rdkit.Chem.rdchem.Mol"
      ]
     },
     "execution_count": 5,
     "metadata": {},
     "output_type": "execute_result"
    }
   ],
   "source": [
    "type(objj) #it is molecule object , have to convert it from SMILES ID"
   ]
  },
  {
   "cell_type": "code",
   "execution_count": 6,
   "id": "ab80b106",
   "metadata": {},
   "outputs": [
    {
     "data": {
      "image/jpeg": "[encoded data removed]",
      "image/png": "[encoded data removed]",
      "text/plain": [
       "<PIL.PngImagePlugin.PngImageFile image mode=RGB size=300x300>"
      ]
     },
     "execution_count": 6,
     "metadata": {},
     "output_type": "execute_result"
    }
   ],
   "source": [
    "Draw.MolToImage(objj)"
   ]
  },
  {
   "cell_type": "code",
   "execution_count": 7,
   "id": "3894b946",
   "metadata": {},
   "outputs": [],
   "source": [
    "def lipinski_descriptors(smiles):\n",
    "    \n",
    "    try:\n",
    "        molobj = Chem.MolFromSmiles(smiles)\n",
    "        \n",
    "    except:\n",
    "        molobj = None\n",
    "        \n",
    "    mw = Descriptors.MolWt(obj)\n",
    "    logp = Descriptors.MolLogP(obj)\n",
    "    hba = Descriptors.NumHAcceptors(obj)\n",
    "    hbd = Descriptors.NumHDonors(obj)\n",
    "    \n",
    "    print(\"Molecular Weight:\", mw)\n",
    "    print(\"LogP:\", logp)\n",
    "    print(\"Number of Hydrogen Bond Donors:\", hbd)\n",
    "    print(\"Number of Hydrogen Bond Acceptors:\", hba)\n",
    "    \n",
    "    #columns = ['SMILES', 'Molecular_Weight', 'LogP', 'HBD', 'HBA']\n",
    "    #df = pd.DataFrame(columns=columns)\n",
    "    \n",
    "    #df.loc[0, 'SMILES'] = smiles\n",
    "    #df.loc[1, 'Molecular_Weight'] = mw\n",
    "    #df.loc[2, 'LogP'] = logp\n",
    "    #df.loc[3, 'HBD'] = hbd\n",
    "    #df.loc[4, 'HBA'] = hba\n",
    "    \n",
    "    #print(df)\n",
    "    "
   ]
  },
  {
   "cell_type": "code",
   "execution_count": 8,
   "id": "f6abf909",
   "metadata": {},
   "outputs": [
    {
     "name": "stderr",
     "output_type": "stream",
     "text": [
      "[19:07:25] SMILES Parse Error: syntax error while parsing: XXX\n",
      "[19:07:25] SMILES Parse Error: Failed parsing SMILES 'XXX' for input: 'XXX'\n"
     ]
    },
    {
     "ename": "NameError",
     "evalue": "name 'obj' is not defined",
     "output_type": "error",
     "traceback": [
      "\u001b[1;31m---------------------------------------------------------------------------\u001b[0m",
      "\u001b[1;31mNameError\u001b[0m                                 Traceback (most recent call last)",
      "Cell \u001b[1;32mIn[8], line 1\u001b[0m\n\u001b[1;32m----> 1\u001b[0m \u001b[43mlipinski_descriptors\u001b[49m\u001b[43m(\u001b[49m\u001b[38;5;124;43m'\u001b[39;49m\u001b[38;5;124;43mXXX\u001b[39;49m\u001b[38;5;124;43m'\u001b[39;49m\u001b[43m)\u001b[49m\n",
      "Cell \u001b[1;32mIn[7], line 9\u001b[0m, in \u001b[0;36mlipinski_descriptors\u001b[1;34m(smiles)\u001b[0m\n\u001b[0;32m      6\u001b[0m \u001b[38;5;28;01mexcept\u001b[39;00m:\n\u001b[0;32m      7\u001b[0m     molobj \u001b[38;5;241m=\u001b[39m \u001b[38;5;28;01mNone\u001b[39;00m\n\u001b[1;32m----> 9\u001b[0m mw \u001b[38;5;241m=\u001b[39m Descriptors\u001b[38;5;241m.\u001b[39mMolWt(\u001b[43mobj\u001b[49m)\n\u001b[0;32m     10\u001b[0m logp \u001b[38;5;241m=\u001b[39m Descriptors\u001b[38;5;241m.\u001b[39mMolLogP(obj)\n\u001b[0;32m     11\u001b[0m hba \u001b[38;5;241m=\u001b[39m Descriptors\u001b[38;5;241m.\u001b[39mNumHAcceptors(obj)\n",
      "\u001b[1;31mNameError\u001b[0m: name 'obj' is not defined"
     ]
    }
   ],
   "source": [
    "lipinski_descriptors('XXX')"
   ]
  },
  {
   "cell_type": "code",
   "execution_count": null,
   "id": "d38fbcfe",
   "metadata": {},
   "outputs": [],
   "source": [
    "df"
   ]
  },
  {
   "cell_type": "code",
   "execution_count": null,
   "id": "18b993f4",
   "metadata": {},
   "outputs": [],
   "source": [
    "smiles"
   ]
  },
  {
   "cell_type": "code",
   "execution_count": 9,
   "id": "64817c55",
   "metadata": {},
   "outputs": [],
   "source": [
    "smiles = 'XXX'"
   ]
  },
  {
   "cell_type": "code",
   "execution_count": 10,
   "id": "6e8a8d65",
   "metadata": {},
   "outputs": [
    {
     "name": "stdout",
     "output_type": "stream",
     "text": [
      "That SMILES ID you gave is not exsist XXX\n"
     ]
    },
    {
     "name": "stderr",
     "output_type": "stream",
     "text": [
      "[19:07:27] SMILES Parse Error: syntax error while parsing: XXX\n",
      "[19:07:27] SMILES Parse Error: Failed parsing SMILES 'XXX' for input: 'XXX'\n"
     ]
    }
   ],
   "source": [
    "try:\n",
    "    molobj = Chem.MolFromSmiles(smiles)\n",
    "    print('That SMILES ID you gave is not exsist', smiles )\n",
    "    \n",
    "except Exception as e:\n",
    "    print(e)"
   ]
  },
  {
   "cell_type": "code",
   "execution_count": 26,
   "id": "cae8cae6",
   "metadata": {},
   "outputs": [],
   "source": [
    "def lipinski_descriptors_2(smiles, df=None):\n",
    "    \n",
    "    try:\n",
    "        molobj = Chem.MolFromSmiles(smiles)\n",
    "\n",
    "        \n",
    "        mw = Descriptors.MolWt(molobj)\n",
    "        logp = Descriptors.MolLogP(molobj)\n",
    "        hba = Descriptors.NumHAcceptors(molobj)\n",
    "        hbd = Descriptors.NumHDonors(molobj)\n",
    "        \n",
    "        print(\"Molecular Weight:\", Descriptors.MolWt(molobj))\n",
    "        print(\"LogP:\", Descriptors.MolLogP(molobj))\n",
    "        print(\"Number of Hydrogen Bond Donors:\", Descriptors.NumHAcceptors(molobj))\n",
    "        print(\"Number of Hydrogen Bond Acceptors:\", Descriptors.NumHDonors(molobj))\n",
    "        \n",
    "        if df is None:\n",
    "            df = pd.DataFrame(columns=['SMILES', 'Molecular_Weight', 'LogP', 'HBD', 'HBA'])\n",
    "        \n",
    "        df = df.append({'SMILES' :smiles,\n",
    "                       'Molecular_Weight' : mw,\n",
    "                       'LogP' : logp,\n",
    "                       'HBD' : hbd,\n",
    "                       'HBA' : hba}, ignore_index = True)\n",
    "        \n",
    "        return df\n",
    "        \n",
    "    except:\n",
    "        print('SMILES ID you gave doesnt exist')\n",
    "        \n",
    "\n",
    "    \n",
    "\n",
    "    \n",
    "    #columns = ['SMILES', 'Molecular_Weight', 'LogP', 'HBD', 'HBA']\n",
    "    #df = pd.DataFrame(columns=columns)\n",
    "    \n",
    "    #df.loc[0, 'SMILES'] = smiles\n",
    "    #df.loc[1, 'Molecular_Weight'] = mw\n",
    "    #df.loc[2, 'LogP'] = logp\n",
    "    #df.loc[3, 'HBD'] = hbd\n",
    "    #df.loc[4, 'HBA'] = hba\n",
    "    \n",
    "    #print(df)\n",
    "    "
   ]
  },
  {
   "cell_type": "code",
   "execution_count": 68,
   "id": "c29a47af",
   "metadata": {},
   "outputs": [],
   "source": [
    "def lipinski_descriptors_3(smiles, df=None):\n",
    "    \n",
    "    try:\n",
    "    \n",
    "        if df is None:\n",
    "            df = pd.DataFrame(columns=['SMILES', 'Molecular_Weight', 'LogP', 'HBD', 'HBA'])\n",
    "        \n",
    "        molobj = Chem.MolFromSmiles(smiles)\n",
    "    \n",
    "        mw = Descriptors.MolWt(molobj)\n",
    "        logp = Descriptors.MolLogP(molobj)\n",
    "        hba = Descriptors.NumHAcceptors(molobj)\n",
    "        hbd = Descriptors.NumHDonors(molobj)\n",
    "    \n",
    " \n",
    "        df.loc[len(df)] = smiles, mw, logp, hba, hbd\n",
    "    \n",
    "        return df\n",
    "    \n",
    "    except:\n",
    "        print('SMILES ID you gave doesnt exist')\n",
    "        \n",
    "        \n",
    "        "
   ]
  },
  {
   "cell_type": "code",
   "execution_count": 69,
   "id": "5e35366f",
   "metadata": {},
   "outputs": [
    {
     "name": "stdout",
     "output_type": "stream",
     "text": [
      "SMILES ID you gave doesnt exist\n"
     ]
    },
    {
     "name": "stderr",
     "output_type": "stream",
     "text": [
      "[20:15:56] SMILES Parse Error: syntax error while parsing: XXX\n",
      "[20:15:56] SMILES Parse Error: Failed parsing SMILES 'XXX' for input: 'XXX'\n"
     ]
    }
   ],
   "source": [
    "x = lipinski_descriptors_3('XXX', df=None)"
   ]
  },
  {
   "cell_type": "code",
   "execution_count": null,
   "id": "570904d7",
   "metadata": {},
   "outputs": [],
   "source": []
  },
  {
   "cell_type": "code",
   "execution_count": null,
   "id": "6cb85696",
   "metadata": {},
   "outputs": [],
   "source": []
  },
  {
   "cell_type": "code",
   "execution_count": null,
   "id": "dcd19c27",
   "metadata": {},
   "outputs": [],
   "source": []
  }
 ],
 "metadata": {
  "kernelspec": {
   "display_name": "drugdiscovery",
   "language": "python",
   "name": "drugdiscovery"
  },
  "language_info": {
   "codemirror_mode": {
    "name": "ipython",
    "version": 3
   },
   "file_extension": ".py",
   "mimetype": "text/x-python",
   "name": "python",
   "nbconvert_exporter": "python",
   "pygments_lexer": "ipython3",
   "version": "3.8.18"
  }
 },
 "nbformat": 4,
 "nbformat_minor": 5
}
